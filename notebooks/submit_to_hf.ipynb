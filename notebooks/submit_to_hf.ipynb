{
 "cells": [
  {
   "cell_type": "code",
   "execution_count": 1,
   "metadata": {},
   "outputs": [],
   "source": [
    "%load_ext autoreload\n",
    "%autoreload 2"
   ]
  },
  {
   "cell_type": "code",
   "execution_count": 2,
   "metadata": {},
   "outputs": [],
   "source": [
    "from pathlib import Path\n",
    "from cornea.models.trainer_module import CorneaTrainerModule\n",
    "from cornea.models.hf_hubs import submit_model, download_model\n",
    "import torchseg\n",
    "import wandb\n",
    "import os"
   ]
  },
  {
   "cell_type": "code",
   "execution_count": 3,
   "metadata": {},
   "outputs": [
    {
     "data": {
      "application/vnd.jupyter.widget-view+json": {
       "model_id": "123e78d1eb29466a8bdc120b11aaab75",
       "version_major": 2,
       "version_minor": 0
      },
      "text/plain": [
       "model.safetensors:   0%|          | 0.00/97.9M [00:00<?, ?B/s]"
      ]
     },
     "metadata": {},
     "output_type": "display_data"
    }
   ],
   "source": [
    "api = wandb.Api()\n",
    "project_name = \"Cornea Interface Segmentation\"\n",
    "runs = api.runs(f\"liv4d-polytechnique/{project_name}\")\n",
    "root_ckpt = Path(\"../checkpoints\") / project_name\n",
    "\n",
    "\n",
    "for run in runs:\n",
    "    ckpt = root_ckpt / run.name\n",
    "    name = [f for f in os.listdir(ckpt) if \"last\" not in f][0]\n",
    "    ckpt_path = ckpt / name\n",
    "    encoder = run.config[\"encoder\"]\n",
    "    base = torchseg.create_model(run.config[\"model\"], classes=1, encoder_weights=None)\n",
    "    encoder = base.name.split(\"-\")[1]\n",
    "    model = CorneaTrainerModule.load_from_checkpoint(ckpt_path, model=base)\n",
    "    model = model.model\n",
    "    submit_model(model, run.config[\"model\"], encoder)"
   ]
  }
 ],
 "metadata": {
  "kernelspec": {
   "display_name": "deeplearning",
   "language": "python",
   "name": "python3"
  },
  "language_info": {
   "codemirror_mode": {
    "name": "ipython",
    "version": 3
   },
   "file_extension": ".py",
   "mimetype": "text/x-python",
   "name": "python",
   "nbconvert_exporter": "python",
   "pygments_lexer": "ipython3",
   "version": "3.12.3"
  }
 },
 "nbformat": 4,
 "nbformat_minor": 2
}
